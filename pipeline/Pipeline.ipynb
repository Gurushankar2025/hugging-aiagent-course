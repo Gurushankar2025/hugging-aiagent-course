{
  "nbformat": 4,
  "nbformat_minor": 0,
  "metadata": {
    "colab": {
      "provenance": [],
      "authorship_tag": "ABX9TyOJ9nHWMmsQXac68xWvo15n",
      "include_colab_link": true
    },
    "kernelspec": {
      "name": "python3",
      "display_name": "Python 3"
    },
    "language_info": {
      "name": "python"
    }
  },
  "cells": [
    {
      "cell_type": "markdown",
      "metadata": {
        "id": "view-in-github",
        "colab_type": "text"
      },
      "source": [
        "<a href=\"https://colab.research.google.com/github/Gurushankar2025/hugging-llm-projects/blob/main/pipeline/Pipeline.ipynb\" target=\"_parent\"><img src=\"https://colab.research.google.com/assets/colab-badge.svg\" alt=\"Open In Colab\"/></a>"
      ]
    },
    {
      "cell_type": "code",
      "execution_count": null,
      "metadata": {
        "colab": {
          "base_uri": "https://localhost:8080/"
        },
        "id": "Q1fcAD_7Yjgn",
        "outputId": "81a819c0-8b90-4c2d-894c-ed261d2dc79b"
      },
      "outputs": [
        {
          "output_type": "stream",
          "name": "stdout",
          "text": [
            "Requirement already satisfied: transformers in /usr/local/lib/python3.11/dist-packages (4.55.0)\n",
            "Requirement already satisfied: filelock in /usr/local/lib/python3.11/dist-packages (from transformers) (3.18.0)\n",
            "Requirement already satisfied: huggingface-hub<1.0,>=0.34.0 in /usr/local/lib/python3.11/dist-packages (from transformers) (0.34.3)\n",
            "Requirement already satisfied: numpy>=1.17 in /usr/local/lib/python3.11/dist-packages (from transformers) (2.0.2)\n",
            "Requirement already satisfied: packaging>=20.0 in /usr/local/lib/python3.11/dist-packages (from transformers) (25.0)\n",
            "Requirement already satisfied: pyyaml>=5.1 in /usr/local/lib/python3.11/dist-packages (from transformers) (6.0.2)\n",
            "Requirement already satisfied: regex!=2019.12.17 in /usr/local/lib/python3.11/dist-packages (from transformers) (2024.11.6)\n",
            "Requirement already satisfied: requests in /usr/local/lib/python3.11/dist-packages (from transformers) (2.32.3)\n",
            "Requirement already satisfied: tokenizers<0.22,>=0.21 in /usr/local/lib/python3.11/dist-packages (from transformers) (0.21.4)\n",
            "Requirement already satisfied: safetensors>=0.4.3 in /usr/local/lib/python3.11/dist-packages (from transformers) (0.6.1)\n",
            "Requirement already satisfied: tqdm>=4.27 in /usr/local/lib/python3.11/dist-packages (from transformers) (4.67.1)\n",
            "Requirement already satisfied: fsspec>=2023.5.0 in /usr/local/lib/python3.11/dist-packages (from huggingface-hub<1.0,>=0.34.0->transformers) (2025.3.0)\n",
            "Requirement already satisfied: typing-extensions>=3.7.4.3 in /usr/local/lib/python3.11/dist-packages (from huggingface-hub<1.0,>=0.34.0->transformers) (4.14.1)\n",
            "Requirement already satisfied: hf-xet<2.0.0,>=1.1.3 in /usr/local/lib/python3.11/dist-packages (from huggingface-hub<1.0,>=0.34.0->transformers) (1.1.7)\n",
            "Requirement already satisfied: charset-normalizer<4,>=2 in /usr/local/lib/python3.11/dist-packages (from requests->transformers) (3.4.2)\n",
            "Requirement already satisfied: idna<4,>=2.5 in /usr/local/lib/python3.11/dist-packages (from requests->transformers) (3.10)\n",
            "Requirement already satisfied: urllib3<3,>=1.21.1 in /usr/local/lib/python3.11/dist-packages (from requests->transformers) (2.5.0)\n",
            "Requirement already satisfied: certifi>=2017.4.17 in /usr/local/lib/python3.11/dist-packages (from requests->transformers) (2025.8.3)\n"
          ]
        }
      ],
      "source": [
        "!pip install transformers"
      ]
    },
    {
      "cell_type": "code",
      "source": [
        "#import pipeline from Hugging face transformers library\n",
        "from transformers import pipeline"
      ],
      "metadata": {
        "id": "726gP1AVZK6U"
      },
      "execution_count": null,
      "outputs": []
    },
    {
      "cell_type": "markdown",
      "source": [
        "# **Encoder-Only**"
      ],
      "metadata": {
        "id": "-kxSwIyiv3Ob"
      }
    },
    {
      "cell_type": "markdown",
      "source": [
        "## **Text classfication**"
      ],
      "metadata": {
        "id": "EWcbkLbnaBkB"
      }
    },
    {
      "cell_type": "code",
      "source": [
        "classifier = pipeline(\"sentiment-analysis\",model=\"distilbert-base-uncased-finetuned-sst-2-english\")\n",
        "review = classifier(['The movie was good','Expected a better movie','It can be watched one time'])\n",
        "review"
      ],
      "metadata": {
        "colab": {
          "base_uri": "https://localhost:8080/"
        },
        "id": "XfAZimxgZ71a",
        "outputId": "18b00e62-b29d-419d-c534-d905f8cc02bc"
      },
      "execution_count": null,
      "outputs": [
        {
          "output_type": "stream",
          "name": "stderr",
          "text": [
            "Device set to use cpu\n"
          ]
        },
        {
          "output_type": "execute_result",
          "data": {
            "text/plain": [
              "[{'label': 'POSITIVE', 'score': 0.9998517036437988},\n",
              " {'label': 'NEGATIVE', 'score': 0.9952174425125122},\n",
              " {'label': 'POSITIVE', 'score': 0.9942874312400818}]"
            ]
          },
          "metadata": {},
          "execution_count": 12
        }
      ]
    },
    {
      "cell_type": "code",
      "source": [
        "classifier = pipeline(\"sentiment-analysis\",model=\"nlptown/bert-base-multilingual-uncased-sentiment\")\n",
        "review = classifier(['Goods deliverd safe and sound.I am going to buy from here again','I am not buying here again','The discount is good and but the product the older version'])\n",
        "review"
      ],
      "metadata": {
        "colab": {
          "base_uri": "https://localhost:8080/"
        },
        "id": "0QDytOObg5wG",
        "outputId": "c00fe03e-ab92-423a-92dd-eee98f98b26d"
      },
      "execution_count": null,
      "outputs": [
        {
          "output_type": "stream",
          "name": "stderr",
          "text": [
            "Device set to use cpu\n"
          ]
        },
        {
          "output_type": "execute_result",
          "data": {
            "text/plain": [
              "[{'label': '5 stars', 'score': 0.6737064123153687},\n",
              " {'label': '1 star', 'score': 0.5001645684242249},\n",
              " {'label': '3 stars', 'score': 0.43956124782562256}]"
            ]
          },
          "metadata": {},
          "execution_count": 16
        }
      ]
    },
    {
      "cell_type": "markdown",
      "source": [
        "## **Zero shot classifcation**"
      ],
      "metadata": {
        "id": "sc6qWKPU5XC0"
      }
    },
    {
      "cell_type": "code",
      "source": [
        "classifier=pipeline('zero-shot-classification',model=\"facebook/bart-large-mnli\")\n",
        "answer=classifier('Artificial Intelligence is paving its path ahead.',candidate_labels=['ComputerScience','Information Technology','Philosophy'])\n",
        "answer"
      ],
      "metadata": {
        "colab": {
          "base_uri": "https://localhost:8080/"
        },
        "id": "aIfcRwXE5Wlr",
        "outputId": "4188cd3a-4b16-4c04-c125-2f5220501dec"
      },
      "execution_count": null,
      "outputs": [
        {
          "output_type": "stream",
          "name": "stderr",
          "text": [
            "Device set to use cpu\n"
          ]
        },
        {
          "output_type": "execute_result",
          "data": {
            "text/plain": [
              "{'sequence': 'Artificial Intelligence is paving its path ahead.',\n",
              " 'labels': ['Information Technology', 'ComputerScience', 'Philosophy'],\n",
              " 'scores': [0.8140894174575806, 0.11469987779855728, 0.07121066004037857]}"
            ]
          },
          "metadata": {},
          "execution_count": 6
        }
      ]
    },
    {
      "cell_type": "markdown",
      "source": [
        "## **Question Answering**"
      ],
      "metadata": {
        "id": "GE7bYVcip7aE"
      }
    },
    {
      "cell_type": "code",
      "source": [
        "QA=pipeline('question-answering',model='distilbert-base-cased-distilled-squad')\n",
        "answer=QA(question='Which ocean is presented in the south',context='The Pacific Ocean is the largest and deepest of Earth\"\\'\"s oceanic divisions. It extends from the Arctic Ocean in the north to the Southern Ocean in the south and is bounded by Asia and Australia in the west and the Americas in the east.')\n",
        "answer"
      ],
      "metadata": {
        "colab": {
          "base_uri": "https://localhost:8080/"
        },
        "id": "_666QJr0qBrC",
        "outputId": "68fedb3f-ee29-467e-906e-7bdcb5460763"
      },
      "execution_count": null,
      "outputs": [
        {
          "output_type": "stream",
          "name": "stderr",
          "text": [
            "Device set to use cpu\n"
          ]
        },
        {
          "output_type": "execute_result",
          "data": {
            "text/plain": [
              "{'score': 0.766676127910614,\n",
              " 'start': 130,\n",
              " 'end': 144,\n",
              " 'answer': 'Southern Ocean'}"
            ]
          },
          "metadata": {},
          "execution_count": 6
        }
      ]
    },
    {
      "cell_type": "markdown",
      "source": [
        "# **Decoder-Only**"
      ],
      "metadata": {
        "id": "UgBEbX6vweSw"
      }
    },
    {
      "cell_type": "markdown",
      "source": [
        "## **Text Generation**"
      ],
      "metadata": {
        "id": "JSEVbyrZlb7j"
      }
    },
    {
      "cell_type": "code",
      "source": [
        "generate = pipeline(\"text-generation\",model=\"gpt2\")\n",
        "text = generate('Hello',truncation=True,max_new_tokens=20)    #to set how many new token should be created.\n",
        "print(text)"
      ],
      "metadata": {
        "colab": {
          "base_uri": "https://localhost:8080/"
        },
        "id": "jO0NbbG9lx_K",
        "outputId": "5486d153-6a25-423b-87c7-03981e3503b9"
      },
      "execution_count": null,
      "outputs": [
        {
          "output_type": "stream",
          "name": "stderr",
          "text": [
            "Device set to use cpu\n",
            "Setting `pad_token_id` to `eos_token_id`:50256 for open-end generation.\n"
          ]
        },
        {
          "output_type": "stream",
          "name": "stdout",
          "text": [
            "[{'generated_text': 'Hello, we are going to try this. Just imagine what you can get for an extra $100.'}]\n"
          ]
        }
      ]
    },
    {
      "cell_type": "markdown",
      "source": [
        "# **Encoder-Decoder**"
      ],
      "metadata": {
        "id": "U1Mv8R0hvdax"
      }
    },
    {
      "cell_type": "markdown",
      "source": [
        "## **Summarization**"
      ],
      "metadata": {
        "id": "5T0QDOd1wvVJ"
      }
    },
    {
      "cell_type": "code",
      "source": [
        "summarizer=pipeline('summarization',model='facebook/bart-large-cnn')\n",
        "summary=summarizer(\"\"\"Artificial intelligence (AI) has rapidly transformed various industries, from healthcare and finance to education and entertainment. In healthcare, AI assists doctors in diagnosing diseases more accurately and developing personalized treatment plans. In finance, it helps detect fraudulent transactions and improve investment strategies. Education benefits from AI-powered tools that adapt to students’ learning styles, while entertainment platforms use AI to recommend personalized content. Despite its benefits, AI also raises concerns about job displacement, data privacy, and ethical decision-making, leading to ongoing debates about its regulation and responsible use.\"\"\",max_length=62)\n",
        "summary"
      ],
      "metadata": {
        "id": "6x8unLQS5IlV",
        "colab": {
          "base_uri": "https://localhost:8080/"
        },
        "outputId": "933ef04a-d115-45a0-d3c1-c092a19bcee7"
      },
      "execution_count": null,
      "outputs": [
        {
          "output_type": "stream",
          "name": "stderr",
          "text": [
            "Device set to use cpu\n"
          ]
        },
        {
          "output_type": "execute_result",
          "data": {
            "text/plain": [
              "[{'summary_text': 'Artificial intelligence (AI) has rapidly transformed various industries, from healthcare and finance to education and entertainment. In healthcare, AI assists doctors in diagnosing diseases more accurately and developing personalized treatment plans. In finance, it helps detect fraudulent transactions and improve investment strategies. Education benefits from AI-powered tools'}]"
            ]
          },
          "metadata": {},
          "execution_count": 14
        }
      ]
    },
    {
      "cell_type": "markdown",
      "source": [
        "## **Translation**"
      ],
      "metadata": {
        "id": "SHyDOLc62d1X"
      }
    },
    {
      "cell_type": "code",
      "source": [
        "translate=pipeline('translation',model='Helsinki-NLP/opus-mt-en-fr')\n",
        "fren_text=translate('Hi am Gurushankar Dheenadhayalan. Today has a good climate and clear sky.')\n",
        "fren_text"
      ],
      "metadata": {
        "colab": {
          "base_uri": "https://localhost:8080/"
        },
        "id": "QVixk3Xd2oXR",
        "outputId": "7b5f6f76-564b-4041-fa36-55bdf51dfffa"
      },
      "execution_count": null,
      "outputs": [
        {
          "output_type": "stream",
          "name": "stderr",
          "text": [
            "Device set to use cpu\n"
          ]
        },
        {
          "output_type": "execute_result",
          "data": {
            "text/plain": [
              "[{'translation_text': \"Bonjour Gurushankar Dheenadhayalan. Aujourd'hui a un bon climat et un ciel clair.\"}]"
            ]
          },
          "metadata": {},
          "execution_count": 16
        }
      ]
    }
  ]
}